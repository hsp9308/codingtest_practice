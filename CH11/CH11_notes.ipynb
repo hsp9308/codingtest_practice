{
 "cells": [
  {
   "cell_type": "code",
   "execution_count": 3,
   "id": "8f3ec074",
   "metadata": {},
   "outputs": [
    {
     "name": "stdout",
     "output_type": "stream",
     "text": [
      "5\n",
      "2 3 1 2 2\n",
      "2\n"
     ]
    }
   ],
   "source": [
    "# Problem 1\n",
    "# 공포도가 1인 멤버는 1인 그룹을 형성\n",
    "# 공포도가 낮은 순서대로 그룹을 계속 형성하면 최대 그룹 수가 나옴.\n",
    "\n",
    "N = int(input())\n",
    "# 가장 공포도가 낮은 순서로 정렬\n",
    "members = sorted(list(map(int,input().split())))\n",
    "\n",
    "answer = 0\n",
    "count = 0\n",
    "\n",
    "for member in members:\n",
    "    count += 1\n",
    "    if count >= member:\n",
    "        answer += 1\n",
    "        count = 0\n",
    "        \n",
    "print(answer)    "
   ]
  },
  {
   "cell_type": "code",
   "execution_count": 5,
   "id": "a61bb8b8",
   "metadata": {},
   "outputs": [
    {
     "name": "stdout",
     "output_type": "stream",
     "text": [
      "567\n",
      "210\n"
     ]
    }
   ],
   "source": [
    "# Problem 2\n",
    "# S 내의 각 문자열에 대해 곱셈 연산과 덧셈 연산을 비교하여 더 큰 쪽으로 업데이트하면 됨.\n",
    "\n",
    "S = input().rstrip()\n",
    "answer = 0\n",
    "for s in S:\n",
    "    val = int(s)\n",
    "    t1, t2 = answer + val, answer * val\n",
    "    if t1 >= t2:\n",
    "        answer = t1\n",
    "    else:\n",
    "        answer = t2\n",
    "print(answer)"
   ]
  },
  {
   "cell_type": "code",
   "execution_count": 20,
   "id": "b4a7509c",
   "metadata": {},
   "outputs": [
    {
     "name": "stdout",
     "output_type": "stream",
     "text": [
      "00001\n",
      "1\n"
     ]
    }
   ],
   "source": [
    "# Problem 3 (백준 1439)\n",
    "# 0으로 연속되는 그룹과 1로 연속되는 그룹의 수를 세어, 더 적은 수가 행동의 최소 횟수가 됨.\n",
    "S = input()\n",
    "n0, n1 = 0, 0\n",
    "\n",
    "if S[0] == '0':\n",
    "    n0 += 1\n",
    "else:\n",
    "    n1 += 1\n",
    "\n",
    "for i in range(len(S)-1):\n",
    "    if S[i] != S[i+1]:\n",
    "        if S[i] == '0':\n",
    "            n1 += 1\n",
    "        else:\n",
    "            n0 += 1\n",
    "\n",
    "\n",
    "print(min(n0,n1))"
   ]
  },
  {
   "cell_type": "code",
   "execution_count": 25,
   "id": "8d79d080",
   "metadata": {},
   "outputs": [
    {
     "name": "stdout",
     "output_type": "stream",
     "text": [
      "5\n",
      "3 2 1 1 9\n",
      "8\n"
     ]
    }
   ],
   "source": [
    "# Problem 4\n",
    "N = int(input())\n",
    "coins = list(map(int,input().split()))\n",
    "coins.sort()\n",
    "\n",
    "cost = 1\n",
    "\n",
    "for coin in coins:\n",
    "    if cost < coin:\n",
    "        break\n",
    "    cost += coin\n",
    "    \n",
    "print(cost)"
   ]
  },
  {
   "cell_type": "code",
   "execution_count": 29,
   "id": "301b2b72",
   "metadata": {},
   "outputs": [
    {
     "name": "stdout",
     "output_type": "stream",
     "text": [
      "8 5\n",
      "1 5 4 3 2 4 5 2\n",
      "25\n"
     ]
    }
   ],
   "source": [
    "N, M = map(int,input().split())\n",
    "balls = list(map(int,input().split()))\n",
    "\n",
    "counts = [0] * (11)\n",
    "\n",
    "for b in balls:\n",
    "    counts[b] += 1\n",
    "\n",
    "answer = 0\n",
    "\n",
    "# A가 무게가 작은 순서대로 골랐을 때, 같은 무게를 지닌 공의 수를 n라고 하면\n",
    "# B는 나머지 큰 무게의 공만큼의 선택지가 있음. (N-n)\n",
    "# 경우의 수는 n*(N-n)\n",
    "for i in range(1,M+1):\n",
    "    N -= counts[i]\n",
    "    answer += N*counts[i]\n",
    "    \n",
    "print(answer)"
   ]
  },
  {
   "cell_type": "code",
   "execution_count": null,
   "id": "993e5e2f",
   "metadata": {},
   "outputs": [],
   "source": []
  }
 ],
 "metadata": {
  "kernelspec": {
   "display_name": "Python 3 (ipykernel)",
   "language": "python",
   "name": "python3"
  },
  "language_info": {
   "codemirror_mode": {
    "name": "ipython",
    "version": 3
   },
   "file_extension": ".py",
   "mimetype": "text/x-python",
   "name": "python",
   "nbconvert_exporter": "python",
   "pygments_lexer": "ipython3",
   "version": "3.8.12"
  }
 },
 "nbformat": 4,
 "nbformat_minor": 5
}
