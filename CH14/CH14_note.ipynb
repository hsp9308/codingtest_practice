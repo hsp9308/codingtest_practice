{
 "cells": [
  {
   "cell_type": "code",
   "execution_count": 1,
   "id": "cf403f2b",
   "metadata": {},
   "outputs": [
    {
     "name": "stdout",
     "output_type": "stream",
     "text": [
      "4\n",
      "5 1 7 0\n"
     ]
    },
    {
     "ename": "AttributeError",
     "evalue": "'map' object has no attribute 'sort'",
     "output_type": "error",
     "traceback": [
      "\u001b[0;31m---------------------------------------------------------------------------\u001b[0m",
      "\u001b[0;31mAttributeError\u001b[0m                            Traceback (most recent call last)",
      "Input \u001b[0;32mIn [1]\u001b[0m, in \u001b[0;36m<cell line: 5>\u001b[0;34m()\u001b[0m\n\u001b[1;32m      1\u001b[0m N \u001b[38;5;241m=\u001b[39m \u001b[38;5;28mint\u001b[39m(\u001b[38;5;28minput\u001b[39m())\n\u001b[1;32m      3\u001b[0m house \u001b[38;5;241m=\u001b[39m \u001b[38;5;28mmap\u001b[39m(\u001b[38;5;28mint\u001b[39m,\u001b[38;5;28minput\u001b[39m()\u001b[38;5;241m.\u001b[39msplit())\n\u001b[0;32m----> 5\u001b[0m \u001b[43mhouse\u001b[49m\u001b[38;5;241;43m.\u001b[39;49m\u001b[43msort\u001b[49m()\n\u001b[1;32m      7\u001b[0m \u001b[38;5;28mprint\u001b[39m(house[(N\u001b[38;5;241m-\u001b[39m\u001b[38;5;241m1\u001b[39m)\u001b[38;5;241m/\u001b[39m\u001b[38;5;241m/\u001b[39m\u001b[38;5;241m2\u001b[39m])\n",
      "\u001b[0;31mAttributeError\u001b[0m: 'map' object has no attribute 'sort'"
     ]
    }
   ],
   "source": [
    "#Problem 23 (백준 10825)\n",
    "import sys\n",
    "inp = sys.stdin.readline\n",
    "\n",
    "N = int(inp())\n",
    "arr = []\n",
    "\n",
    "for i in range(N):\n",
    "    name, s1, s2, s3 = inp().split()\n",
    "    arr.append((name,int(s1),int(s2),int(s3)))\n",
    "    \n",
    "arr.sort(key=lambda x:(-x[1],x[2],-x[3],x[0]))\n",
    "\n",
    "for i in range(N):\n",
    "    print(arr[i][0])"
   ]
  },
  {
   "cell_type": "code",
   "execution_count": 2,
   "id": "9added4e",
   "metadata": {},
   "outputs": [
    {
     "name": "stdout",
     "output_type": "stream",
     "text": [
      "\n"
     ]
    },
    {
     "ename": "ValueError",
     "evalue": "invalid literal for int() with base 10: ''",
     "output_type": "error",
     "traceback": [
      "\u001b[0;31m---------------------------------------------------------------------------\u001b[0m",
      "\u001b[0;31mValueError\u001b[0m                                Traceback (most recent call last)",
      "Input \u001b[0;32mIn [2]\u001b[0m, in \u001b[0;36m<cell line: 2>\u001b[0;34m()\u001b[0m\n\u001b[1;32m      1\u001b[0m \u001b[38;5;66;03m#Problem 24 (백준 18310)\u001b[39;00m\n\u001b[0;32m----> 2\u001b[0m N \u001b[38;5;241m=\u001b[39m \u001b[38;5;28;43mint\u001b[39;49m\u001b[43m(\u001b[49m\u001b[38;5;28;43minput\u001b[39;49m\u001b[43m(\u001b[49m\u001b[43m)\u001b[49m\u001b[43m)\u001b[49m\n\u001b[1;32m      4\u001b[0m house \u001b[38;5;241m=\u001b[39m \u001b[38;5;28mlist\u001b[39m(\u001b[38;5;28mmap\u001b[39m(\u001b[38;5;28mint\u001b[39m,\u001b[38;5;28minput\u001b[39m()\u001b[38;5;241m.\u001b[39msplit()))\n\u001b[1;32m      6\u001b[0m house\u001b[38;5;241m.\u001b[39msort()\n",
      "\u001b[0;31mValueError\u001b[0m: invalid literal for int() with base 10: ''"
     ]
    }
   ],
   "source": [
    "#Problem 24 (백준 18310)\n",
    "N = int(input())\n",
    "\n",
    "house = list(map(int,input().split()))\n",
    "\n",
    "house.sort()\n",
    "\n",
    "print(house[(N-1)//2])"
   ]
  },
  {
   "cell_type": "code",
   "execution_count": 3,
   "id": "cd9640ac",
   "metadata": {},
   "outputs": [],
   "source": [
    "# Problem 25 (프로그래머스 42889 [2019 카카오 신입 공채])\n",
    "def solution(N, stages):\n",
    "    answer = []\n",
    "    L = len(stages)\n",
    "    \n",
    "    for i in range(1,N+1):\n",
    "        count = stages.count(i)\n",
    "        \n",
    "        if L == 0:\n",
    "            fail_rate = 0\n",
    "        else:\n",
    "            fail_rate = count / L\n",
    "        L -= count\n",
    "        answer.append((i,fail_rate))\n",
    "    \n",
    "    answer.sort(key=lambda x:-x[1])\n",
    "    return [x[0] for x in answer]"
   ]
  },
  {
   "cell_type": "code",
   "execution_count": 6,
   "id": "b9fb2298",
   "metadata": {},
   "outputs": [
    {
     "name": "stdout",
     "output_type": "stream",
     "text": [
      "3\n",
      "10\n",
      "20\n",
      "40\n",
      "100\n"
     ]
    }
   ],
   "source": [
    "# Problem 26 (백준 1715)\n",
    "# import sys\n",
    "# inp = sys.stdin.readline\n",
    "import heapq\n",
    "inp = input\n",
    "N = int(input())\n",
    "\n",
    "arr = []\n",
    "\n",
    "for _ in range(N):\n",
    "    heapq.heappush(arr,int(inp()))\n",
    "    \n",
    "answer = 0\n",
    "for i in range(N-1):\n",
    "    n1 = heapq.heappop(arr)\n",
    "    n2 = heapq.heappop(arr)\n",
    "    s = n1 + n2 \n",
    "    answer += s\n",
    "    heapq.heappush(arr,s)\n",
    "\n",
    "print(answer)"
   ]
  },
  {
   "cell_type": "markdown",
   "id": "b8bc36c3",
   "metadata": {},
   "source": []
  }
 ],
 "metadata": {
  "kernelspec": {
   "display_name": "Python 3 (ipykernel)",
   "language": "python",
   "name": "python3"
  },
  "language_info": {
   "codemirror_mode": {
    "name": "ipython",
    "version": 3
   },
   "file_extension": ".py",
   "mimetype": "text/x-python",
   "name": "python",
   "nbconvert_exporter": "python",
   "pygments_lexer": "ipython3",
   "version": "3.8.12"
  }
 },
 "nbformat": 4,
 "nbformat_minor": 5
}
