{
 "cells": [
  {
   "cell_type": "code",
   "execution_count": 4,
   "id": "5b6dca2c",
   "metadata": {},
   "outputs": [
    {
     "name": "stdout",
     "output_type": "stream",
     "text": [
      "2\n",
      "3 4\n",
      "1 3 3 2 2 1 4 1 0 6 4 7\n",
      "4 4\n",
      "1 3 1 5 2 2 4 1 5 0 2 3 0 6 1 2\n",
      "19\n",
      "16\n"
     ]
    }
   ],
   "source": [
    "#Problem 31 (Flipkart 인터뷰)\n",
    "# DP 과정을 update_d로 따로 정의해서 작동하게끔 함.\n",
    "# 반복문으로 처리할 수도 있음.\n",
    "\n",
    "import copy\n",
    "\n",
    "T = int(input())\n",
    "answer = []\n",
    "for _ in range(T):\n",
    "    N, M = map(int,input().split())\n",
    "    board = []\n",
    "    nums = list(map(int,input().split()))\n",
    "    for i in range(N):\n",
    "        board.append(nums[i*M:(i+1)*M])\n",
    "    d = [[-1]*M for l in range(N)]\n",
    "    \n",
    "    # 특정 위치 (i,j)에서의 금의 크기 점화식\n",
    "    # d[i,j] = d[i,j] + max(d[i-1,j-1],d[i,j-1],d[i+1,j-1])\n",
    "    def update_d(i,j):\n",
    "        if j == 0:\n",
    "            d[i][j] = board[i][j]\n",
    "            return\n",
    "        n1, n2, n3 = 0, 0, 0\n",
    "        if i > 0:\n",
    "            n1 = d[i-1][j-1]\n",
    "        n2 = d[i][j-1]\n",
    "        if i < N-1:\n",
    "            n3 = d[i+1][j-1]\n",
    "            \n",
    "        d[i][j] = max(n1,n2,n3) + board[i][j]\n",
    "        return\n",
    "    \n",
    "    for j in range(M):\n",
    "        for i in range(N):\n",
    "            update_d(i,j)\n",
    "    max_val = max([d[i][M-1] for i in range(N)])\n",
    "    answer.append(max_val)\n",
    "\n",
    "for a in answer:\n",
    "    print(a)"
   ]
  },
  {
   "cell_type": "code",
   "execution_count": 5,
   "id": "880511e7",
   "metadata": {},
   "outputs": [
    {
     "name": "stdout",
     "output_type": "stream",
     "text": [
      "5\n",
      "7\n",
      "3 8\n",
      "8 1 0\n",
      "2 7 4 4\n",
      "4 5 2 6 5\n",
      "30\n"
     ]
    }
   ],
   "source": [
    "#Problem 32 (백준 1932)\n",
    "import sys, copy\n",
    "inp = sys.stdin.readline\n",
    "inp = input\n",
    "\n",
    "n = int(inp())\n",
    "\n",
    "arr = []\n",
    "\n",
    "for i in range(1,n+1):\n",
    "    arr.append(list(map(int,inp().split()))+[-1]*(n-i))\n",
    "\n",
    "# arr[i][j] = arr[i][j] + max(arr[i-1][j],arr[i-1][j-1])\n",
    "for i in range(1,n):\n",
    "    arr[i][0] += arr[i-1][0]\n",
    "    for j in range(1,i+1):\n",
    "        arr[i][j] += max(arr[i-1][j],arr[i-1][j-1])\n",
    "print(max(arr[n-1]))"
   ]
  },
  {
   "cell_type": "code",
   "execution_count": 23,
   "id": "673efd1f",
   "metadata": {},
   "outputs": [
    {
     "name": "stdout",
     "output_type": "stream",
     "text": [
      "10\n",
      "5 50\n",
      "4 40\n",
      "3 30\n",
      "2 20\n",
      "1 10\n",
      "1 10\n",
      "2 20\n",
      "3 30\n",
      "4 40\n",
      "5 50\n",
      "90\n"
     ]
    }
   ],
   "source": [
    "#Problem 33 (백준 14501)\n",
    "# 1일차에 했다고 가정하면... T1, P1\n",
    "# 1+T1 일차에 P1의 수익이 생김\n",
    "# 테이블이 있을 때, 수익 배열 S을 세워놓으면...\n",
    "# i일차에 대해서 계산해보면\n",
    "# S[i] = max(S[i+Ti]+Pi,max_income) \n",
    "# N일차부터 역순으로 계산\n",
    "\n",
    "N = int(inp())\n",
    "\n",
    "schedule = []\n",
    "for i in range(N):\n",
    "    schedule.append(tuple(map(int,inp().split())))\n",
    "    \n",
    "S = [0] * (N+1)\n",
    "\n",
    "max_income = 0\n",
    "\n",
    "for i in range(N-1,-1,-1):\n",
    "    t, s = schedule[i]\n",
    "    time = t + i\n",
    "    if time <= N:\n",
    "        S[i] = max(S[time]+s,max_income)\n",
    "        max_income = S[i]\n",
    "    else:\n",
    "        S[i] = max_income\n",
    "    \n",
    "print(max_income)"
   ]
  },
  {
   "cell_type": "code",
   "execution_count": 24,
   "id": "1540c756",
   "metadata": {},
   "outputs": [
    {
     "name": "stdout",
     "output_type": "stream",
     "text": [
      "7\n",
      "15 11 4 8 5 2 4\n",
      "2\n"
     ]
    }
   ],
   "source": [
    "#Problem 34 (백준 18353)\n",
    "\n",
    "# 가장 긴 부분 수열을 세면 됨\n",
    "# 가장 긴 부분 수열을 찾게 되면, 열외시킬 병사의 수는 원래 배열에서 부분 수열의 크기를 뺀 값이 된다.\n",
    "\n",
    "N = int(input())\n",
    "\n",
    "arr = list(map(int,input().split()))\n",
    "\n",
    "d = [1] * N\n",
    "\n",
    "for i in range(1,N):\n",
    "    for j in range(i):\n",
    "        if arr[j] > arr[i]:\n",
    "            d[i] = max(d[j]+1,d[i])\n",
    "print(N-max(d))"
   ]
  },
  {
   "cell_type": "code",
   "execution_count": 26,
   "id": "ee7f3ffd",
   "metadata": {},
   "outputs": [
    {
     "name": "stdout",
     "output_type": "stream",
     "text": [
      "10\n",
      "12\n"
     ]
    }
   ],
   "source": [
    "# Problem 35 (Google 인터뷰)\n",
    "n = int(input())\n",
    "d = [0]*n\n",
    "d[0] = 1\n",
    "\n",
    "i2 = i3 = i5 = 0\n",
    "\n",
    "n2, n3, n5 = 2, 3, 5\n",
    "\n",
    "for ind in range(1,n):\n",
    "    d[ind] = min(n2,n3,n5)\n",
    "    \n",
    "    if d[ind] == n2:\n",
    "        i2 += 1\n",
    "        n2 = d[i2] * 2\n",
    "    if d[ind] == n3:\n",
    "        i3 += 1\n",
    "        n3 = d[i3] * 3\n",
    "    if d[ind] == n5:\n",
    "        i5 += 1\n",
    "        n5 = d[i5] * 5\n",
    "\n",
    "print(d[-1])"
   ]
  },
  {
   "cell_type": "code",
   "execution_count": 29,
   "id": "dea5bfd4",
   "metadata": {},
   "outputs": [
    {
     "name": "stdout",
     "output_type": "stream",
     "text": [
      "cat\n",
      "cut\n",
      "1\n"
     ]
    }
   ],
   "source": [
    "# Problem 36 (Goldman Sachs 인터뷰)\n",
    "s1 = input().rstrip()\n",
    "s2 = input().rstrip()\n",
    "N, M = len(s1), len(s2)\n",
    "\n",
    "dp = [[0]*(M+1) for _ in range(N+1)]\n",
    "\n",
    "for i in range(1,N+1):\n",
    "    dp[i][0] = i\n",
    "for j in range(1,M+1):\n",
    "    dp[0][j] = j\n",
    "    \n",
    "for i in range(1, N+1):\n",
    "    for j in range(1, M+1):\n",
    "        if s1[i-1] == s2[i-1]:\n",
    "            dp[i][j] = dp[i-1][j-1]\n",
    "        else:\n",
    "            dp[i][j] = 1 + min(dp[i][j-1],dp[i-1][j],dp[i-1][j-1])\n",
    "\n",
    "print(dp[N][M])"
   ]
  },
  {
   "cell_type": "code",
   "execution_count": null,
   "id": "aed0825e",
   "metadata": {},
   "outputs": [],
   "source": []
  }
 ],
 "metadata": {
  "kernelspec": {
   "display_name": "Python 3 (ipykernel)",
   "language": "python",
   "name": "python3"
  },
  "language_info": {
   "codemirror_mode": {
    "name": "ipython",
    "version": 3
   },
   "file_extension": ".py",
   "mimetype": "text/x-python",
   "name": "python",
   "nbconvert_exporter": "python",
   "pygments_lexer": "ipython3",
   "version": "3.8.12"
  }
 },
 "nbformat": 4,
 "nbformat_minor": 5
}
