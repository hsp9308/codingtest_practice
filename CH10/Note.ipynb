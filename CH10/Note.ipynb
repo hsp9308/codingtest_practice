{
 "cells": [
  {
   "cell_type": "markdown",
   "id": "17631bc7",
   "metadata": {},
   "source": [
    "# Cycle detection\n",
    "\n",
    "- Cycle이란?\n",
    "    - 방향성 그래프에서 특정 정점에서 출발하여 자기 자신으로 되돌아오는 경로가 있을 때, 이를 Cycle이라고 함. <br>\n",
    "        ex) $1 \\rightarrow 2 \\rightarrow 3 \\rightarrow ... \\rightarrow 1$\n",
    "- Union 연산을 이용해 Cycle을 감별할 수 있음.\n",
    "    - 1. 각 edge를 확인하며 두 노드의 루트 노드를 확인한다.\n",
    "        - I. 루트 노드가 서로 다를 경우, 두 노드에 union 연산을 수행\n",
    "        - II. 루트 노드가 서로 같을 경우, Cycle이 발생.\n",
    "    - 2. 그래프에 포함되어 있는 모든 간선에 대해 1번 과정 수행."
   ]
  },
  {
   "cell_type": "code",
   "execution_count": 1,
   "id": "a582c4f6",
   "metadata": {},
   "outputs": [],
   "source": [
    "from parent_basics import find_parent, union_parent"
   ]
  },
  {
   "cell_type": "code",
   "execution_count": 2,
   "id": "1d976ea1",
   "metadata": {},
   "outputs": [
    {
     "name": "stdout",
     "output_type": "stream",
     "text": [
      "Cycle exists!\n"
     ]
    }
   ],
   "source": [
    "# Test for detecting cycle\n",
    "# v, e = map(int,input().split())\n",
    "v, e = 3, 3\n",
    "edges = [(1,2),(1,3),(1,3)]\n",
    "parent = [i for i in range(v+1)]\n",
    "cycle = False\n",
    "\n",
    "for i in range(e):\n",
    "    #a, b = map(int,input().split())\n",
    "    a, b = edges[i]\n",
    "    if find_parent(parent,a) == find_parent(parent,b):\n",
    "        cycle = True\n",
    "        break\n",
    "    else:\n",
    "        union_parent(parent,a,b)\n",
    "\n",
    "if cycle:\n",
    "    print(\"Cycle exists!\")\n",
    "else:\n",
    "    print(\"No cycles!\")"
   ]
  },
  {
   "cell_type": "markdown",
   "id": "0b88fc4c",
   "metadata": {},
   "source": [
    "# Spanning Tree, 신장 트리\n",
    "- 모든 노드를 포함하면서 사이클이 없는 부분 그래프를 의미.\n",
    "- 노드들 사이에서 최소 비용의 신장트리를 찾는 알고리즘을 '최소 신장 트리 알고리즘'이라고 함.\n",
    "- 대표적인 알고리즘으로, **크루스칼 알고리즘 (Kruskal algorithm)** 이 있음.   \n",
    "    (최소 비용의 신장 트리를 만들어준다!)\n",
    "<br>\n",
    "1. 간선 데이터를 비용에 따른 오름차순으로 정렬. \n",
    "2. 간선을 하나씩 확인해가며 현재의 간선이 사이클을 발생시키는지 확인 (위의 코드 참고)\n",
    "    - 사이클이 발생할 경우, 트리에서 간선을 제외한다. \n",
    "    - 사이클이 없을 경우, 트리에 포함시킨다.\n",
    "3. 모든 간선에 대해 1-2를 반복한다.   \n",
    "\n",
    "NOTE : 계산 복잡도는 $O(E\\log{E})$ \\[ 간선 정렬에 시간이 오래걸리므로! \\] "
   ]
  },
  {
   "cell_type": "code",
   "execution_count": 5,
   "id": "749b6d31",
   "metadata": {},
   "outputs": [
    {
     "name": "stdout",
     "output_type": "stream",
     "text": [
      "7 9\n",
      "1 2 29\n",
      "1 5 75\n",
      "2 3 35\n",
      "2 6 34\n",
      "3 4 7\n",
      "4 6 23\n",
      "4 7 13\n",
      "5 6 53\n",
      "6 7 25\n",
      "159\n",
      "1 : [(2, 29)]\n",
      "2 : [(1, 29), (6, 34)]\n",
      "3 : [(4, 7)]\n",
      "4 : [(3, 7), (7, 13), (6, 23)]\n",
      "5 : [(6, 53)]\n",
      "6 : [(4, 23), (2, 34), (5, 53)]\n",
      "7 : [(4, 13)]\n"
     ]
    }
   ],
   "source": [
    "# Kruskal Algorithm \n",
    "from parent_basics import find_parent, union_parent\n",
    "\n",
    "v, e = map(int,input().split())\n",
    "parent = [i for i in range(v+1)]\n",
    "\n",
    "edges = []\n",
    "total_cost = 0\n",
    "\n",
    "for _ in range(e):\n",
    "    a, b, c = map(int, input().split())\n",
    "    edges.append((a,b,c))\n",
    "\n",
    "edges.sort(key=lambda x: x[2])\n",
    "# To check the graph..\n",
    "graph = [[] for _ in range(v+1)]\n",
    "\n",
    "for edge in edges:\n",
    "    a, b, c = edge\n",
    "    if find_parent(parent,a) != find_parent(parent,b):\n",
    "        union_parent(parent,a,b)\n",
    "        total_cost += c\n",
    "        graph[a].append((b,c))\n",
    "        graph[b].append((a,c))\n",
    "\n",
    "print(total_cost)\n",
    "for i in range(1,v+1):\n",
    "    print(i, \":\", graph[i])"
   ]
  },
  {
   "cell_type": "markdown",
   "id": "1a7dc119",
   "metadata": {},
   "source": [
    "# Topology Sort, 위상 정렬\n",
    "\n",
    "방향 그래프의 모든 노드를 '방향성에 거스르지 않도록' 순서대로 나열하는 것.   \n",
    "(ex: 선수과목을 고려한 학습 순서 설정)\n",
    "\n",
    "- 진입차수 (Indegree)   \n",
    "    : 특정 노드로 들어오는 간선의 개수.\n",
    "\n",
    "- 위상 정렬 알고리즘 (***topology_sort.py***)\n",
    "    + 진입차수가 0인 노드를 큐에 넣는다.\n",
    "    + 큐가 빌 때까지 다음의 과정을 반복하낟.\n",
    "        * 큐에서 원소를 꺼내 해낭 노드에서 출발하는 간선을 그래프에서 제거한다. \n",
    "        * 새롭게 진입차수가 0이 된 노드를 큐에 넣는다.\n",
    "- 계산복잡도 $O(V+E)$"
   ]
  },
  {
   "cell_type": "code",
   "execution_count": 6,
   "id": "21f6dbdf",
   "metadata": {},
   "outputs": [
    {
     "name": "stdout",
     "output_type": "stream",
     "text": [
      "7 8\n",
      "1 2\n",
      "1 5\n",
      "2 3\n",
      "2 6\n",
      "3 4\n",
      "4 7\n",
      "5 6\n",
      "6 4\n",
      "1 2 5 3 6 4 7 "
     ]
    }
   ],
   "source": [
    "from topology_sort import topology_sort\n",
    "\n",
    "v, e = map(int,input().split())\n",
    "indegree = [0] * (v+1)\n",
    "graph = [[] for _ in range(v+1)]\n",
    "\n",
    "for _ in range(e):\n",
    "    a, b = map(int, input().split())\n",
    "    graph[a].append(b)\n",
    "    indegree[b] += 1\n",
    "    \n",
    "result = topology_sort(graph,indegree)\n",
    "\n",
    "for i in result:\n",
    "    print(i, end=\" \")"
   ]
  },
  {
   "cell_type": "code",
   "execution_count": 7,
   "id": "2c593337",
   "metadata": {},
   "outputs": [
    {
     "name": "stdout",
     "output_type": "stream",
     "text": [
      "7 8\n",
      "0 1 3\n",
      "1 1 7\n",
      "NO\n",
      "0 7 6\n",
      "1 7 1\n",
      "NO\n",
      "0 3 7\n",
      "0 4 2\n",
      "0 1 1\n",
      "1 1 1\n",
      "YES\n"
     ]
    }
   ],
   "source": [
    "# 10-2. 팀 결성\n",
    "N, M = map(int,input().split())\n",
    "\n",
    "def find_parent(parent,x):\n",
    "    if parent[x] != x:\n",
    "        parent[x] = find_parent(parent,parent[x])\n",
    "    return parent[x]\n",
    "\n",
    "def union_parent(parent,a,b):\n",
    "    a = find_parent(parent,a)\n",
    "    b = find_parent(parent,b)\n",
    "    if a < b:\n",
    "        parent[b] = a\n",
    "    else:\n",
    "        parent[a] = b\n",
    "        \n",
    "parent = [i for i in range(N+1)]\n",
    "\n",
    "for _ in range(M):\n",
    "    o, a, b = map(int, input().split())\n",
    "    if o == 0:\n",
    "        union_parent(parent,a,b)\n",
    "    else:\n",
    "        ra = find_parent(parent,a)\n",
    "        rb = find_parent(parent,b)\n",
    "        if a == b:\n",
    "            print(\"YES\")\n",
    "        else:\n",
    "            print(\"NO\")\n"
   ]
  },
  {
   "cell_type": "code",
   "execution_count": 9,
   "id": "015ec465",
   "metadata": {},
   "outputs": [
    {
     "name": "stdout",
     "output_type": "stream",
     "text": [
      "7 12\n",
      "1 2 3\n",
      "1 3 2\n",
      "3 2 1\n",
      "2 5 2\n",
      "3 4 4\n",
      "7 3 6\n",
      "5 1 5\n",
      "1 6 2\n",
      "6 4 1\n",
      "6 5 3\n",
      "4 5 3\n",
      "6 7 4\n",
      "8\n"
     ]
    }
   ],
   "source": [
    "# 도시 분할 계획 (백준 1647)\n",
    "N, M = map(int,input().split())\n",
    "\n",
    "edges = []\n",
    "\n",
    "for _ in range(M):\n",
    "    a, b, c = map(int,input().split())\n",
    "    edges.append((a,b,c))\n",
    "    \n",
    "edges.sort(key = lambda x:x[2])\n",
    "\n",
    "def find_parent(parent,x):\n",
    "    if parent[x] != x:\n",
    "        parent[x] = find_parent(parent,parent[x])\n",
    "    return parent[x]\n",
    "\n",
    "def union_parent(parent,a,b):\n",
    "    a = find_parent(parent,a)\n",
    "    b = find_parent(parent,b)\n",
    "    if a < b:\n",
    "        parent[b] = a\n",
    "    else:\n",
    "        parent[a] = b\n",
    "        \n",
    "parent = [i for i in range(N+1)]\n",
    "\n",
    "total_cost = 0\n",
    "max_cost = 0\n",
    "\n",
    "for edge in edges:\n",
    "    a, b, c = edge\n",
    "    if find_parent(parent,a) != find_parent(parent,b):\n",
    "        union_parent(parent,a,b)\n",
    "        total_cost += c\n",
    "        max_cost = c\n",
    "\n",
    "print(total_cost - max_cost)"
   ]
  },
  {
   "cell_type": "code",
   "execution_count": 15,
   "id": "0ea630ce",
   "metadata": {},
   "outputs": [
    {
     "name": "stdout",
     "output_type": "stream",
     "text": [
      "5\n",
      "10 -1\n",
      "10 1 -1\n",
      "4 1 -1\n",
      "4 3 1 -1\n",
      "3 3 -1\n",
      "10\n",
      "20\n",
      "14\n",
      "18\n",
      "17\n"
     ]
    }
   ],
   "source": [
    "# 10-4. 커리큘럼\n",
    "from collections import deque\n",
    "import sys, copy\n",
    "inp = sys.stdin.readline\n",
    "\n",
    "N = int(input())\n",
    "graph = [[] for _ in range(N+1)]\n",
    "time = [0] * (N+1)\n",
    "indegree = [0] * (N+1)\n",
    "\n",
    "for i in range(1,N+1):\n",
    "    data = list(map(int,input().split()))\n",
    "    time[i] = data[0]\n",
    "    for x in data[1:-1]:\n",
    "        indegree[i] += 1\n",
    "        graph[x].append(i)\n",
    "\n",
    "def topology_sort(graph,indegree):\n",
    "    result = copy.deepcopy(time)\n",
    "    queue = deque()\n",
    "    \n",
    "    N = len(graph) - 1\n",
    "    for i in range(1,N+1):\n",
    "        if indegree[i] == 0:\n",
    "            queue.append(i)\n",
    "            \n",
    "    while queue:\n",
    "        now = queue.popleft()\n",
    "        for i in graph[now]:\n",
    "            result[i] = max(result[i],result[now]+time[i])\n",
    "            indegree[i] -= 1\n",
    "            \n",
    "            if indegree[i] == 0:\n",
    "                queue.append(i)\n",
    "    return result\n",
    "    \n",
    "result = topology_sort(graph,indegree)\n",
    "\n",
    "for i in range(1,N+1):\n",
    "    print(result[i])"
   ]
  },
  {
   "cell_type": "code",
   "execution_count": null,
   "id": "d069f9f2",
   "metadata": {},
   "outputs": [],
   "source": []
  }
 ],
 "metadata": {
  "kernelspec": {
   "display_name": "Python 3 (ipykernel)",
   "language": "python",
   "name": "python3"
  },
  "language_info": {
   "codemirror_mode": {
    "name": "ipython",
    "version": 3
   },
   "file_extension": ".py",
   "mimetype": "text/x-python",
   "name": "python",
   "nbconvert_exporter": "python",
   "pygments_lexer": "ipython3",
   "version": "3.8.12"
  }
 },
 "nbformat": 4,
 "nbformat_minor": 5
}
