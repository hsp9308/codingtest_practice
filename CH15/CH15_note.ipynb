{
 "cells": [
  {
   "cell_type": "code",
   "execution_count": 4,
   "id": "d3d8eece",
   "metadata": {},
   "outputs": [
    {
     "name": "stdout",
     "output_type": "stream",
     "text": [
      "7 2\n",
      "1 1 2 2 2 2 7\n",
      "2 6\n",
      "4\n"
     ]
    }
   ],
   "source": [
    "# Problem 27 (Zoho 인터뷰)\n",
    "from bisect import bisect_left, bisect_right\n",
    "\n",
    "N, M = map(int,input().split())\n",
    "\n",
    "arr = list(map(int,input().split()))\n",
    "\n",
    "i1 = bisect_left(arr,M)\n",
    "i2 = bisect_right(arr,M)\n",
    "\n",
    "if i1-i2 == 0:\n",
    "    print(-1)\n",
    "else:\n",
    "    print(i2-i1)"
   ]
  },
  {
   "cell_type": "code",
   "execution_count": 5,
   "id": "581154ff",
   "metadata": {},
   "outputs": [
    {
     "name": "stdout",
     "output_type": "stream",
     "text": [
      "7 4\n",
      "1 1 2 2 2 2 3\n",
      "-1\n"
     ]
    }
   ],
   "source": [
    "# Problem 27 (이진 탐색 직접 구현)\n",
    "N, M = map(int,input().split())\n",
    "\n",
    "arr = list(map(int,input().split()))\n",
    "\n",
    "l_end = None\n",
    "r_end = None\n",
    "\n",
    "# left index search\n",
    "def search_left(arr,target,start,end):\n",
    "    if start > end:\n",
    "        return None\n",
    "    mid = (end+start) // 2\n",
    "    \n",
    "    if (mid == 0 or target > arr[mid-1]) and arr[mid] == target:\n",
    "        return mid\n",
    "    elif arr[mid] >= target:\n",
    "        return search_left(arr,target,start,mid-1)\n",
    "    else:\n",
    "        return search_left(arr,target,mid+1,end)\n",
    "    \n",
    "def search_right(arr,target,start,end):\n",
    "    if start > end:\n",
    "        return None\n",
    "    mid = (end+start) // 2\n",
    "    \n",
    "    if (mid == N-1 or target < arr[mid+1]) and arr[mid] == target:\n",
    "        return mid\n",
    "    elif arr[mid] > target:\n",
    "        return search_right(arr,target,start,mid-1)\n",
    "    else:\n",
    "        return search_right(arr,target,mid+1,end)\n",
    "    \n",
    "n1 = search_left(arr,M,0,N-1)\n",
    "if n1 is None:\n",
    "    print(-1)\n",
    "else:\n",
    "    n2 = search_right(arr,M,0,N-1)\n",
    "    val = n2 - n1 + 1\n",
    "    if val == 0:\n",
    "        print(-1)\n",
    "    else:\n",
    "        print(val)"
   ]
  },
  {
   "cell_type": "code",
   "execution_count": 8,
   "id": "fc9c1eab",
   "metadata": {},
   "outputs": [
    {
     "name": "stdout",
     "output_type": "stream",
     "text": [
      "7\n",
      "-15 -4 2 8 9 13 15\n",
      "2\n"
     ]
    }
   ],
   "source": [
    "# Problem 28 (Amazon 인터뷰)\n",
    "def binary_search(arr,l,r):\n",
    "    if l > r:\n",
    "        return -1\n",
    "    N = len(arr)\n",
    "    \n",
    "    \n",
    "    mid = (l+r) // 2\n",
    "    \n",
    "    if arr[mid] == mid:\n",
    "        return mid\n",
    "    elif arr[mid] < mid:\n",
    "        return binary_search(arr,mid+1,r)\n",
    "    else:\n",
    "        return binary_search(arr,l,mid-1)\n",
    "    \n",
    "N = int(input())\n",
    "arr = list(map(int,input().split()))\n",
    "\n",
    "print(binary_search(arr,0,N-1))"
   ]
  },
  {
   "cell_type": "code",
   "execution_count": 9,
   "id": "7ef393f5",
   "metadata": {},
   "outputs": [
    {
     "name": "stdout",
     "output_type": "stream",
     "text": [
      "5 3\n",
      "1\n",
      "2\n",
      "8\n",
      "4\n",
      "9\n"
     ]
    },
    {
     "ename": "NameError",
     "evalue": "name 'c' is not defined",
     "output_type": "error",
     "traceback": [
      "\u001b[0;31m---------------------------------------------------------------------------\u001b[0m",
      "\u001b[0;31mNameError\u001b[0m                                 Traceback (most recent call last)",
      "Input \u001b[0;32mIn [9]\u001b[0m, in \u001b[0;36m<cell line: 16>\u001b[0;34m()\u001b[0m\n\u001b[1;32m     23\u001b[0m         val \u001b[38;5;241m=\u001b[39m arr[i]\n\u001b[1;32m     24\u001b[0m         count \u001b[38;5;241m+\u001b[39m\u001b[38;5;241m=\u001b[39m \u001b[38;5;241m1\u001b[39m\n\u001b[0;32m---> 25\u001b[0m \u001b[38;5;28;01mif\u001b[39;00m count \u001b[38;5;241m>\u001b[39m\u001b[38;5;241m=\u001b[39m \u001b[43mc\u001b[49m:\n\u001b[1;32m     26\u001b[0m     start \u001b[38;5;241m=\u001b[39m mid \u001b[38;5;241m+\u001b[39m \u001b[38;5;241m1\u001b[39m\n\u001b[1;32m     27\u001b[0m     result \u001b[38;5;241m=\u001b[39m mid\n",
      "\u001b[0;31mNameError\u001b[0m: name 'c' is not defined"
     ]
    }
   ],
   "source": [
    "# Problem 29 (백준 2110)\n",
    "import sys\n",
    "inp = sys.stdin.readline\n",
    "inp = input\n",
    "N, C = map(int,inp().split())\n",
    "\n",
    "arr = []\n",
    "for _ in range(N):\n",
    "    arr.append(int(inp()))\n",
    "arr.sort()\n",
    "\n",
    "start = 1\n",
    "end = arr[-1] - arr[0]\n",
    "result = 0\n",
    "\n",
    "while(start <= end):\n",
    "    mid = (start+end) // 2\n",
    "    val = arr[0]\n",
    "    count = 1\n",
    "    \n",
    "    for i in range(1,N):\n",
    "        if arr[i] >= val + mid:\n",
    "            val = arr[i]\n",
    "            count += 1\n",
    "    if count >= C:\n",
    "        start = mid + 1\n",
    "        result = mid\n",
    "    else:\n",
    "        end = end - 1\n",
    "        \n",
    "print(result)"
   ]
  },
  {
   "cell_type": "code",
   "execution_count": 10,
   "id": "591ce7c8",
   "metadata": {},
   "outputs": [],
   "source": [
    "#Problem 30 (프로그래머스, 60060 [2020 카카오 신입 공채])\n",
    "# 정확도는 맞으나, 효율성 테스트에서 탈락\n",
    "def solution(words, queries):\n",
    "    answer = []\n",
    "    \n",
    "    for query in queries:\n",
    "        count = 0\n",
    "        L = len(query)\n",
    "        a, b = 0, L+1\n",
    "        if (query[0] == '?' and query[-1] != '?'):\n",
    "            l, r = 0, L-1\n",
    "            while l <= r:\n",
    "                mid = (l+r) // 2\n",
    "                if query[mid] != '?':\n",
    "                    r = mid-1\n",
    "                else:\n",
    "                    l = mid+1\n",
    "            a, b = l, L+1\n",
    "        elif (query[0] != '?' and query[-1] == '?'):\n",
    "            l, r = 0, L-1\n",
    "            while l <= r:\n",
    "                mid = (l+r) // 2\n",
    "                if query[mid] != '?':\n",
    "                    l = mid+1\n",
    "                else:\n",
    "                    r = mid-1\n",
    "            a, b = 0, r\n",
    "        for word in words:\n",
    "            if query[a:b+1] == word[a:b+1] and len(word) == L:\n",
    "                count += 1\n",
    "        answer.append(count)\n",
    "    \n",
    "    return answer"
   ]
  },
  {
   "cell_type": "code",
   "execution_count": 11,
   "id": "1caeb87e",
   "metadata": {},
   "outputs": [],
   "source": [
    "#Problem 30\n",
    "# 효율성 해결\n",
    "# bisect 모듈을 사용해서 찾기\n",
    "# bisect_left(arr,a) : a를 arr의 몇 번째 index에 넣을지를 반환. a가 이미 있을 경우, 가장 왼쪽 index를 반환\n",
    "# ex: arr = [1 2 3 3 3 5 8] 배열에서 bisect_left(arr,3) = 2, bisect_right(arr,3) = 5\n",
    "\n",
    "from bisect import bisect_left, bisect_right\n",
    "\n",
    "def solution(words, queries):\n",
    "    answer = []\n",
    "    arr = [[] for _ in range(10001)]\n",
    "    reversed_arr = [[] for _ in range(10001)]\n",
    "    \n",
    "    for word in words:\n",
    "        L = len(word)\n",
    "        arr[L].append(word)\n",
    "        reversed_arr[L].append(word[::-1])\n",
    "    for i in range(10001):\n",
    "        arr[i].sort()\n",
    "        reversed_arr[i].sort()\n",
    "    for q in queries:\n",
    "        L = len(q)\n",
    "        result = 0\n",
    "        if q[0] != '?':\n",
    "            l_ind = bisect_left(arr[L],q.replace('?','a'))\n",
    "            r_ind = bisect_right(arr[L],q.replace('?','z'))\n",
    "            result = r_ind - l_ind\n",
    "        else:\n",
    "            l_ind = bisect_left(reversed_arr[L],q[::-1].replace('?','a'))\n",
    "            r_ind = bisect_right(reversed_arr[L],q[::-1].replace('?','z'))\n",
    "            result = r_ind - l_ind\n",
    "        answer.append(result)\n",
    "    \n",
    "    return answer"
   ]
  },
  {
   "cell_type": "code",
   "execution_count": null,
   "id": "1d6b587c",
   "metadata": {},
   "outputs": [],
   "source": []
  }
 ],
 "metadata": {
  "kernelspec": {
   "display_name": "Python 3 (ipykernel)",
   "language": "python",
   "name": "python3"
  },
  "language_info": {
   "codemirror_mode": {
    "name": "ipython",
    "version": 3
   },
   "file_extension": ".py",
   "mimetype": "text/x-python",
   "name": "python",
   "nbconvert_exporter": "python",
   "pygments_lexer": "ipython3",
   "version": "3.8.12"
  }
 },
 "nbformat": 4,
 "nbformat_minor": 5
}
